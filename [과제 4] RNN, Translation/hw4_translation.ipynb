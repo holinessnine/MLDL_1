{
  "cells": [
    {
      "cell_type": "markdown",
      "metadata": {
        "id": "EDxtMC2g66gQ"
      },
      "source": [
        "# Setup"
      ]
    },
    {
      "cell_type": "code",
      "execution_count": 1,
      "metadata": {
        "id": "vj2CXov7JJqq",
        "colab": {
          "base_uri": "https://localhost:8080/"
        },
        "outputId": "225490e9-6649-4842-8ed5-6cf8d3569d9b"
      },
      "outputs": [
        {
          "output_type": "stream",
          "name": "stdout",
          "text": [
            "Drive already mounted at /content/drive/; to attempt to forcibly remount, call drive.mount(\"/content/drive/\", force_remount=True).\n"
          ]
        }
      ],
      "source": [
        "from google.colab import drive\n",
        "drive.mount('/content/drive/')"
      ]
    },
    {
      "cell_type": "code",
      "execution_count": 2,
      "metadata": {
        "id": "DcKp4bZiJwut",
        "colab": {
          "base_uri": "https://localhost:8080/"
        },
        "outputId": "3d42052c-d41c-46f4-fe0d-2d9cfa5c8d9c"
      },
      "outputs": [
        {
          "output_type": "stream",
          "name": "stdout",
          "text": [
            "/content/drive/MyDrive/MLDL_lab/hw4\n"
          ]
        }
      ],
      "source": [
        "\"\"\"\n",
        "Change directory to where this file is located\n",
        "\"\"\"\n",
        "%cd '/content/drive/MyDrive/MLDL_lab/hw4'"
      ]
    },
    {
      "cell_type": "code",
      "execution_count": 3,
      "metadata": {
        "id": "UHKo6dP6eEO6"
      },
      "outputs": [],
      "source": [
        "import math\n",
        "import random\n",
        "from pathlib import Path\n",
        "import sys\n",
        "\n",
        "from data.data import prepareData\n",
        "\n",
        "import torch\n",
        "import torch.nn as nn\n",
        "import torch.nn.functional as F\n",
        "from torch.nn import TransformerEncoder, TransformerEncoderLayer, TransformerDecoder, TransformerDecoderLayer\n",
        "from torch.utils.data import Dataset, DataLoader, random_split\n",
        "\n",
        "import pandas as pd\n",
        "import numpy as np\n",
        "import matplotlib.pyplot as plt"
      ]
    },
    {
      "cell_type": "code",
      "source": [
        "\"\"\"\n",
        "Discussed with: 강창훈(데이터사이언스학과)\n",
        "\"\"\"\n"
      ],
      "metadata": {
        "id": "5U2jKstSrVfj",
        "colab": {
          "base_uri": "https://localhost:8080/",
          "height": 35
        },
        "outputId": "6c17f3d4-bf93-4959-e7fe-7be1a8651309"
      },
      "execution_count": 181,
      "outputs": [
        {
          "output_type": "execute_result",
          "data": {
            "text/plain": [
              "'\\nDiscussed with: 강창훈(데이터사이언스학과)\\n'"
            ],
            "application/vnd.google.colaboratory.intrinsic+json": {
              "type": "string"
            }
          },
          "metadata": {},
          "execution_count": 181
        }
      ]
    },
    {
      "cell_type": "markdown",
      "metadata": {
        "id": "Kz2VM-9MIyKe"
      },
      "source": [
        "## Util"
      ]
    },
    {
      "cell_type": "markdown",
      "metadata": {
        "id": "8qCY42PE0kRj"
      },
      "source": [
        "**Do NOT Modify** code blocks in this section"
      ]
    },
    {
      "cell_type": "code",
      "execution_count": 4,
      "metadata": {
        "id": "OOnSsL1EeG85"
      },
      "outputs": [],
      "source": [
        "SEED = 1234\n",
        "DEVICE = torch.device('cuda') if torch.cuda.is_available() else torch.device('cpu')\n",
        "\n",
        "np.random.seed(SEED)\n",
        "torch.manual_seed(SEED)\n",
        "torch.cuda.manual_seed(SEED)\n",
        "random.seed(SEED)\n",
        "torch.backends.cudnn.deterministic = True"
      ]
    },
    {
      "cell_type": "code",
      "execution_count": 5,
      "metadata": {
        "id": "UHo7XkIGIz2z"
      },
      "outputs": [],
      "source": [
        "def train(model, iterator, optimizer, loss_fn, clip):    \n",
        "    model.train()\n",
        "    epoch_loss = 0\n",
        "    \n",
        "    for i, batch in enumerate(iterator):\n",
        "        src = batch[0].to(DEVICE)\n",
        "        trg = batch[1].to(DEVICE)        \n",
        "        optimizer.zero_grad()\n",
        "        output = model(src, trg)\n",
        "        loss = loss_fn(output, trg)\n",
        "        loss.backward()\n",
        "        torch.nn.utils.clip_grad_norm_(model.parameters(), clip) \n",
        "        optimizer.step()        \n",
        "        epoch_loss += loss.item()\n",
        "        \n",
        "    return epoch_loss / len(iterator)"
      ]
    },
    {
      "cell_type": "code",
      "execution_count": 6,
      "metadata": {
        "id": "l2-jeXr-I1yP"
      },
      "outputs": [],
      "source": [
        "def evaluate(model, iterator, loss_fn):    \n",
        "    model.eval()\n",
        "    epoch_loss = 0\n",
        "    \n",
        "    with torch.no_grad():    \n",
        "        for i, batch in enumerate(iterator):\n",
        "            src = batch[0].to(DEVICE)\n",
        "            trg = batch[1].to(DEVICE)\n",
        "            output = model(src, trg)\n",
        "            loss = loss_fn(output, trg)\n",
        "            epoch_loss += loss.item()\n",
        "        \n",
        "    return epoch_loss / len(iterator)"
      ]
    },
    {
      "cell_type": "code",
      "source": [
        "def plot_history(history):\n",
        "    plt.figure(figsize=(2 * 13, 4))\n",
        "    plt.subplot(1, 5, 1)\n",
        "    plt.title(\"Training and Validation Loss\")\n",
        "    plt.plot(history['train_PPL'], label=\"train_PPL\")\n",
        "    plt.plot(history['val_PPL'], label=\"val_PPL\")\n",
        "    plt.xlabel(\"iterations\")\n",
        "    plt.ylabel(\"PPL\")\n",
        "    plt.legend()\n",
        "    plt.subplot(1, 5, 2)\n",
        "    plt.title(\"Learning Rate\")\n",
        "    plt.plot(history['lr'], label=\"learning rate\")\n",
        "    plt.xlabel(\"iterations\")\n",
        "    plt.ylabel(\"LR\")\n",
        "    plt.show()"
      ],
      "metadata": {
        "id": "gnb-nEET7aEe"
      },
      "execution_count": 7,
      "outputs": []
    },
    {
      "cell_type": "markdown",
      "metadata": {
        "id": "5PgCsIyawXoN"
      },
      "source": [
        "## Dataset & Dataloader"
      ]
    },
    {
      "cell_type": "markdown",
      "metadata": {
        "id": "40ZOR80S0wet"
      },
      "source": [
        "**Do NOT Modify** code blocks in this section"
      ]
    },
    {
      "cell_type": "code",
      "execution_count": 8,
      "metadata": {
        "id": "jwwJGiyETHsL"
      },
      "outputs": [],
      "source": [
        "MAX_LENGTH = 10\n",
        "BATCH_SIZE = 64\n",
        "\n",
        "TRAIN_RATIO = 0.7 # train dataset ratio, should be a float in (0, 0.8]\n",
        "VALID_RATIO = 0.8 - TRAIN_RATIO\n",
        "\n",
        "SOS_token = 0\n",
        "EOS_token = 1"
      ]
    },
    {
      "cell_type": "code",
      "execution_count": 9,
      "metadata": {
        "id": "fePBsU2GKoaI",
        "colab": {
          "base_uri": "https://localhost:8080/"
        },
        "outputId": "8cc4e66b-833c-4575-8298-4e2d293fed11"
      },
      "outputs": [
        {
          "output_type": "stream",
          "name": "stdout",
          "text": [
            "Reading lines...\n",
            "Read 135842 sentence pairs\n",
            "Trimmed to 10599 sentence pairs\n",
            "Counting words...\n",
            "Counted words:\n",
            "fra 4345\n",
            "eng 2803\n",
            "\n",
            "\n",
            "This is data example\n",
            "['tu me fais de l ombre .', 'you re blocking my light .']\n",
            "\n",
            "\n",
            "This is index of PAD token for each language\n",
            "fra 2803\n",
            "eng 4345\n",
            "\n",
            "\n",
            "This is dataset_size: 10599\n",
            "train_size: 7419\n",
            "valid_data: 1059\n",
            "test_data: 2121\n"
          ]
        }
      ],
      "source": [
        "class TranslateDataset(Dataset):\n",
        "    def __init__(self, max_length=10, fra2eng=True):\n",
        "        self.input_lang, self.output_lang, self.pairs = prepareData('eng', 'fra', max_length=max_length, reverse=fra2eng)\n",
        "        self.max_length = max_length\n",
        "        self.input_lang.addWord('PAD')\n",
        "        self.output_lang.addWord('PAD')\n",
        "        self.input_lang_pad = self.input_lang.word2index['PAD']\n",
        "        self.output_lang_pad = self.output_lang.word2index['PAD']\n",
        "        \n",
        "        print(\"\\n\")\n",
        "        print(\"This is data example\")\n",
        "        print(random.choice(self.pairs))\n",
        "\n",
        "        print(\"\\n\")\n",
        "        print(\"This is index of PAD token for each language\")\n",
        "        print(f\"fra {self.output_lang.word2index['PAD']}\")\n",
        "        print(f\"eng {self.input_lang.word2index['PAD']}\")\n",
        "\n",
        "    def __len__(self):\n",
        "        return len(self.pairs)\n",
        "\n",
        "    def __getitem__(self, idx):\n",
        "        pair = self.pairs[idx]\n",
        "        x, y = self._tensorsFromPair(pair)\n",
        "        return x, y\n",
        "\n",
        "    def _tensorFromSentence(self, lang, sentence):\n",
        "        indexes = [lang.word2index[word] for word in sentence.split(' ')]\n",
        "        indexes.append(EOS_token)\n",
        "        return torch.tensor(indexes, dtype=torch.long).view(-1, 1)\n",
        "\n",
        "    def _tensorsFromPair(self, pair):\n",
        "        input_tensor = self._tensorFromSentence(self.input_lang, pair[0])\n",
        "        target_tensor = self._tensorFromSentence(self.output_lang, pair[1])\n",
        "        return (input_tensor, target_tensor)\n",
        "    \n",
        "    def collate_fn(self, data):\n",
        "        x_batch = []; y_batch = []\n",
        "        \n",
        "        for x, y in data:\n",
        "            if x.shape[0] < self.max_length-1:\n",
        "                x = torch.cat([x, self.input_lang_pad*torch.ones((self.max_length-1 - x.shape[0], 1), dtype=x.dtype)])\n",
        "            elif x.shape[0] > self.max_length-1:\n",
        "                x = x[:self.max_length-1]\n",
        "            if y.shape[0] < self.max_length-1:\n",
        "                y = torch.cat([y, self.output_lang_pad*torch.ones((self.max_length-1 - y.shape[0], 1), dtype=y.dtype)])\n",
        "            elif y.shape[0] > self.max_length-1:\n",
        "                y = y[:self.max_length-1]\n",
        "\n",
        "            x_batch.append(torch.cat([torch.tensor([SOS_token]), x.squeeze(1)]))\n",
        "            y_batch.append(torch.cat([torch.tensor([SOS_token]), y.squeeze(1)]))\n",
        "        \n",
        "        return torch.stack(x_batch), torch.stack(y_batch)\n",
        "\n",
        "dataset = TranslateDataset(max_length=MAX_LENGTH)\n",
        "\n",
        "train_size = int(len(dataset)*TRAIN_RATIO)\n",
        "valid_size = int(len(dataset)*VALID_RATIO)\n",
        "train_data, valid_data, test_data = random_split(dataset, [train_size, valid_size, len(dataset)-(train_size+valid_size)],)\n",
        "print(\"\\n\")\n",
        "print(f\"This is dataset_size: {len(dataset)}\")\n",
        "print(f\"train_size: {train_size}\")\n",
        "print(f\"valid_data: {valid_size}\")\n",
        "print(f\"test_data: {len(test_data)}\")\n",
        "\n",
        "train_dataloader = DataLoader(train_data, batch_size=BATCH_SIZE, collate_fn=dataset.collate_fn, shuffle=True)\n",
        "valid_dataloader = DataLoader(valid_data, batch_size=BATCH_SIZE, collate_fn=dataset.collate_fn, shuffle=True)\n",
        "test_dataloader = DataLoader(test_data, batch_size=BATCH_SIZE, collate_fn=dataset.collate_fn, shuffle=True)"
      ]
    },
    {
      "cell_type": "markdown",
      "metadata": {
        "id": "8TqutY58tG-h"
      },
      "source": [
        "# 1. Seq2Seq model with Attention Mechanism"
      ]
    },
    {
      "cell_type": "markdown",
      "metadata": {
        "id": "A5xyf2mHuhmX"
      },
      "source": [
        "## Implement LSTM Seq2Seq Model"
      ]
    },
    {
      "cell_type": "code",
      "execution_count": 168,
      "metadata": {
        "id": "1MM6lL95JcDa"
      },
      "outputs": [],
      "source": [
        "class LSTMEncoder(nn.Module):\n",
        "    \n",
        "    def __init__(self, in_dim, emb_dim, hid_dim):\n",
        "        super(LSTMEncoder, self).__init__()\n",
        "        \n",
        "        self.embedding = nn.Embedding(in_dim, emb_dim)\n",
        "        self.lstm = nn.LSTM(input_size=emb_dim, hidden_size=hid_dim, num_layers=1, batch_first=True)\n",
        "\n",
        "    def forward(self, input, hidden, cell):\n",
        "        '''\n",
        "        Q2 - (a)\n",
        "        Implement forward method of LSTM Encoder Module\n",
        "\n",
        "        INPUT\n",
        "        - input: input sentence, (B, max_len)\n",
        "        - hidden: initialized hidden state, (1, B, hid_dim)\n",
        "        - cell: initialized cell state, (1, B, hid_dim)\n",
        "\n",
        "        OUTPUT\n",
        "        What to be returned depends on your implementation of LSTMSeq2Seq. (Q2 - (b))\n",
        "        Feel free to return outputs you need. (e.g. hidden states of encoder, etc.)\n",
        "        '''\n",
        "        ################### YOUR CODE ###################\n",
        "        input = self.embedding(input).to(DEVICE)\n",
        "        hiddens, (_, _) = self.lstm(input, (hidden, cell))\n",
        "        return hiddens\n",
        "        #################################################"
      ]
    },
    {
      "cell_type": "code",
      "execution_count": 169,
      "metadata": {
        "id": "VPQnZdz5KKnN"
      },
      "outputs": [],
      "source": [
        "class AttnLSTMDecoder(nn.Module):\n",
        "\n",
        "    def __init__(self, emb_dim, hid_dim, out_dim, dropout, enc_hiddens=None):\n",
        "        super(AttnLSTMDecoder, self).__init__()\n",
        "        self.enc_hiddens = enc_hiddens # encoder output\n",
        "        self.dropout = dropout\n",
        "        \n",
        "        self.embedding = nn.Embedding(out_dim, emb_dim)\n",
        "        self.lstm = nn.LSTM(input_size=emb_dim, hidden_size=hid_dim, batch_first=True)\n",
        "        self.fc = nn.Linear(hid_dim + hid_dim, hid_dim)\n",
        "        self.tanh = nn.Tanh()\n",
        "        self.classifier = nn.Linear(hid_dim, out_dim)\n",
        "\n",
        "    def forward(self, input, hidden, cell):\n",
        "        \n",
        "        '''\n",
        "        Q2 - (a)\n",
        "        Implement forward method of LSTM Decoder Module with dot-product attention\n",
        "        Before implementing LSTM layer, make sure to feed the concatenated input into Linear and tanh activation layer.\n",
        "        This will allow the concatenated input to be resized from (B, hid_dim + hid_dim) into (B, hid_dim) \n",
        "\n",
        "        INPUT\n",
        "        - input: a token of input sentence (B, 1)\n",
        "        - hidden: previous hidden state (B, hid_dim)\n",
        "        - cell: previous cell state (1, B, hid_dim)\n",
        "\n",
        "        OUTPUT\n",
        "        What to be returned depends on your implementation of LSTMSeq2Seq. (Q2 - (b))\n",
        "        Feel free to return outputs you need.\n",
        "        Some examples below\n",
        "        - predicted token embedding (N, emb_dim)\n",
        "        - current hidden state\n",
        "        - current cell state\n",
        "        '''\n",
        "\n",
        "        ################### YOUR CODE ###################\n",
        "        query = hidden # set query to calculate attention\n",
        "        key = self.enc_hiddens.permute(1,0,2)\n",
        "        value = self.enc_hiddens.permute(1,0,2)\n",
        "        \n",
        "        input = self.embedding(input)\n",
        "        input = nn.Dropout(self.dropout)(input)\n",
        "\n",
        "        attn_score = torch.matmul(key, query.permute(0,2,1))\n",
        "        attn_coefficient = F.softmax(attn_score, dim=1)\n",
        "        weighted_kv = (value * attn_coefficient)\n",
        "        attn_value = torch.sum(weighted_kv, dim=1)\n",
        "\n",
        "        hidden_concat = torch.cat([query, attn_value.unsqueeze(1)], dim=2)\n",
        "        hidden_concat = self.fc(hidden_concat)\n",
        "        hidden_concat = self.tanh(hidden_concat)\n",
        "        hidden_concat = hidden_concat.permute(1,0,2)\n",
        "\n",
        "        output, (h,c) = self.lstm(input, (hidden_concat, cell))\n",
        "        output = self.classifier(output)\n",
        "        output = F.log_softmax(output)\n",
        "\n",
        "        return output, (h,c)\n",
        "        #################################################"
      ]
    },
    {
      "cell_type": "code",
      "execution_count": 170,
      "metadata": {
        "id": "zJsJ3p2NLD6c"
      },
      "outputs": [],
      "source": [
        "class LSTMSeq2Seq(nn.Module):\n",
        "    def __init__(self, in_dim, out_dim, emb_dim, hid_dim, device, dropout):\n",
        "        super(LSTMSeq2Seq, self).__init__()\n",
        "\n",
        "        self.in_dim = in_dim\n",
        "        self.out_dim = out_dim\n",
        "        self.emb_dim = emb_dim\n",
        "        self.hid_dim = hid_dim\n",
        "        self.device = device\n",
        "        self.dropout = nn.Dropout(dropout)\n",
        "        \n",
        "        self.encoder = LSTMEncoder(in_dim, emb_dim, hid_dim)\n",
        "        self.decoder = AttnLSTMDecoder(emb_dim, hid_dim, out_dim, dropout)\n",
        "        \n",
        "    def forward(self, src, trg):\n",
        "        '''\n",
        "        Q2 - (b)\n",
        "        Implement forward method of LSTM Seq2Seq Module\n",
        "        (Decoder module should attend encoder's outputs using dot product.)\n",
        "        \n",
        "        INPUT\n",
        "        - src: source language batched data (B, max_len)\n",
        "        - trg: target language batched data (B, max_len)\n",
        "\n",
        "        OUTPUT\n",
        "        - output of one-hot prediction (B, out_dim, max_len)\n",
        "        '''\n",
        "        ################### YOUR CODE ###################\n",
        "        batch_size, mx_len = src.shape\n",
        "        # Encoder (start from zero-hidden & zero-cell states)\n",
        "        h_e = torch.zeros(1, batch_size, self.hid_dim).to(self.device)\n",
        "        c_e = torch.zeros(1, batch_size, self.hid_dim).to(self.device)\n",
        "        hiddens = self.encoder(src, h_e, c_e).permute(1,0,2)\n",
        "\n",
        "        # Decoder\n",
        "        self.decoder.enc_hiddens = hiddens # set encoder's hidden states\n",
        "        outputs = torch.zeros(mx_len, batch_size, dataset.output_lang.n_words).to(self.device) # to store each decoder's output\n",
        "        h_d = hiddens[-1].unsqueeze(1).to(self.device)\n",
        "        c_d = torch.zeros(1, batch_size, self.hid_dim).to(self.device)\n",
        "        trg = trg.permute(1,0)\n",
        "        for t in range(1, mx_len): # for each t'th token, get decoder outputs\n",
        "            input = trg[t].unsqueeze(1)\n",
        "            output, (h, c) = self.decoder(input, h_d, c_d)\n",
        "            h_d = h.permute(1,0,2)\n",
        "            outputs[t] = output.squeeze(1)\n",
        "  \n",
        "        return outputs.permute(1,2,0)\n",
        "        #################################################"
      ]
    },
    {
      "cell_type": "markdown",
      "metadata": {
        "id": "cu3WP3mYw3NV"
      },
      "source": [
        "## Training"
      ]
    },
    {
      "cell_type": "code",
      "execution_count": 171,
      "metadata": {
        "id": "B4YKhRe9d9qC",
        "colab": {
          "base_uri": "https://localhost:8080/",
          "height": 54
        },
        "outputId": "faa470b1-f916-4d0d-bafe-d82680fc3173"
      },
      "outputs": [
        {
          "output_type": "execute_result",
          "data": {
            "text/plain": [
              "'\\nQ2 - (c)\\nTrain your Seq2Seq model and plot perplexities and learning rates. \\nUpon successful training, the test perplexity should be less than 7. \\nBriefly report your hyperparameters and results on test dataset. \\nMake sure your results are printed in your submitted file.\\n'"
            ],
            "application/vnd.google.colaboratory.intrinsic+json": {
              "type": "string"
            }
          },
          "metadata": {},
          "execution_count": 171
        }
      ],
      "source": [
        "'''\n",
        "Q2 - (c)\n",
        "Train your Seq2Seq model and plot perplexities and learning rates. \n",
        "Upon successful training, the test perplexity should be less than 7. \n",
        "Briefly report your hyperparameters and results on test dataset. \n",
        "Make sure your results are printed in your submitted file.\n",
        "'''"
      ]
    },
    {
      "cell_type": "code",
      "execution_count": 172,
      "metadata": {
        "id": "1QQgN03XecUV"
      },
      "outputs": [],
      "source": [
        "# experiment various methods for better performance\n",
        "# you can modify the codes in this block\n",
        "in_dim = dataset.input_lang.n_words\n",
        "out_dim = dataset.output_lang.n_words\n",
        "hid_dim = 128\n",
        "emb_dim = 64\n",
        "dropout = 0.5\n",
        "learning_rate = 0.001\n",
        "N_EPOCHS = 40\n",
        "valid_every=1\n",
        "best_valid_loss = float('inf')\n",
        "\n",
        "device = torch.device('cuda' if torch.cuda.is_available() else 'cpu')\n",
        "model = LSTMSeq2Seq(in_dim, out_dim, emb_dim, hid_dim, device, dropout).to(device)\n",
        "\n",
        "optimizer = torch.optim.AdamW(model.parameters(), lr=learning_rate)\n",
        "loss_fn = nn.CrossEntropyLoss(ignore_index = dataset.output_lang_pad)"
      ]
    },
    {
      "cell_type": "code",
      "execution_count": 173,
      "metadata": {
        "id": "JbSR6BZKf-6L",
        "colab": {
          "base_uri": "https://localhost:8080/",
          "height": 1000
        },
        "outputId": "17d52937-d805-4397-cefc-adc7d3b22e9a"
      },
      "outputs": [
        {
          "output_type": "stream",
          "name": "stderr",
          "text": [
            "<ipython-input-169-671b60b9b4b5>:56: UserWarning: Implicit dimension choice for log_softmax has been deprecated. Change the call to include dim=X as an argument.\n",
            "  output = F.log_softmax(output)\n"
          ]
        },
        {
          "output_type": "stream",
          "name": "stdout",
          "text": [
            "Epoch: 01\n",
            "\tTrain Loss: 5.683 | Train PPL: 293.731\n",
            "==========================\n",
            "\t Val. Loss: 3.746 |  Val. PPL:  42.346\n",
            "Epoch: 02\n",
            "\tTrain Loss: 3.242 | Train PPL:  25.590\n",
            "==========================\n",
            "\t Val. Loss: 3.078 |  Val. PPL:  21.719\n",
            "Epoch: 03\n",
            "\tTrain Loss: 2.776 | Train PPL:  16.053\n",
            "==========================\n",
            "\t Val. Loss: 2.659 |  Val. PPL:  14.285\n",
            "Epoch: 04\n",
            "\tTrain Loss: 2.458 | Train PPL:  11.685\n",
            "==========================\n",
            "\t Val. Loss: 2.485 |  Val. PPL:  12.005\n",
            "Epoch: 05\n",
            "\tTrain Loss: 2.243 | Train PPL:   9.417\n",
            "==========================\n",
            "\t Val. Loss: 2.237 |  Val. PPL:   9.364\n",
            "Epoch: 06\n",
            "\tTrain Loss: 2.075 | Train PPL:   7.961\n",
            "==========================\n",
            "\t Val. Loss: 2.124 |  Val. PPL:   8.363\n",
            "Epoch: 07\n",
            "\tTrain Loss: 1.982 | Train PPL:   7.260\n",
            "==========================\n",
            "\t Val. Loss: 2.050 |  Val. PPL:   7.768\n",
            "Epoch: 08\n",
            "\tTrain Loss: 1.854 | Train PPL:   6.383\n",
            "==========================\n",
            "\t Val. Loss: 1.983 |  Val. PPL:   7.264\n",
            "Epoch: 09\n",
            "\tTrain Loss: 1.791 | Train PPL:   5.993\n",
            "==========================\n",
            "\t Val. Loss: 2.004 |  Val. PPL:   7.418\n",
            "Epoch: 10\n",
            "\tTrain Loss: 1.718 | Train PPL:   5.576\n",
            "==========================\n",
            "\t Val. Loss: 1.868 |  Val. PPL:   6.478\n",
            "Epoch: 11\n",
            "\tTrain Loss: 1.685 | Train PPL:   5.390\n",
            "==========================\n",
            "\t Val. Loss: 1.838 |  Val. PPL:   6.283\n",
            "Epoch: 12\n",
            "\tTrain Loss: 1.641 | Train PPL:   5.162\n",
            "==========================\n",
            "\t Val. Loss: 1.787 |  Val. PPL:   5.974\n",
            "Epoch: 13\n",
            "\tTrain Loss: 1.611 | Train PPL:   5.006\n",
            "==========================\n",
            "\t Val. Loss: 1.747 |  Val. PPL:   5.735\n",
            "Epoch: 14\n",
            "\tTrain Loss: 1.555 | Train PPL:   4.735\n",
            "==========================\n",
            "\t Val. Loss: 1.758 |  Val. PPL:   5.801\n",
            "Epoch: 15\n",
            "\tTrain Loss: 1.507 | Train PPL:   4.512\n",
            "==========================\n",
            "\t Val. Loss: 1.701 |  Val. PPL:   5.481\n",
            "Epoch: 16\n",
            "\tTrain Loss: 1.488 | Train PPL:   4.430\n",
            "==========================\n",
            "\t Val. Loss: 1.672 |  Val. PPL:   5.323\n",
            "Epoch: 17\n",
            "\tTrain Loss: 1.457 | Train PPL:   4.293\n",
            "==========================\n",
            "\t Val. Loss: 1.693 |  Val. PPL:   5.438\n",
            "Epoch: 18\n",
            "\tTrain Loss: 1.458 | Train PPL:   4.295\n",
            "==========================\n",
            "\t Val. Loss: 1.625 |  Val. PPL:   5.081\n",
            "Epoch: 19\n",
            "\tTrain Loss: 1.426 | Train PPL:   4.163\n",
            "==========================\n",
            "\t Val. Loss: 1.678 |  Val. PPL:   5.352\n",
            "Epoch: 20\n",
            "\tTrain Loss: 1.409 | Train PPL:   4.092\n",
            "==========================\n",
            "\t Val. Loss: 1.635 |  Val. PPL:   5.129\n",
            "Epoch: 21\n",
            "\tTrain Loss: 1.389 | Train PPL:   4.011\n",
            "==========================\n",
            "\t Val. Loss: 1.643 |  Val. PPL:   5.173\n",
            "Epoch: 22\n",
            "\tTrain Loss: 1.406 | Train PPL:   4.078\n",
            "==========================\n",
            "\t Val. Loss: 1.624 |  Val. PPL:   5.071\n",
            "Epoch: 23\n",
            "\tTrain Loss: 1.383 | Train PPL:   3.985\n",
            "==========================\n",
            "\t Val. Loss: 1.695 |  Val. PPL:   5.445\n",
            "Epoch: 24\n",
            "\tTrain Loss: 1.344 | Train PPL:   3.835\n",
            "==========================\n",
            "\t Val. Loss: 1.665 |  Val. PPL:   5.284\n",
            "Epoch: 25\n",
            "\tTrain Loss: 1.368 | Train PPL:   3.927\n",
            "==========================\n",
            "\t Val. Loss: 1.636 |  Val. PPL:   5.133\n",
            "Epoch: 26\n",
            "\tTrain Loss: 1.332 | Train PPL:   3.787\n",
            "==========================\n",
            "\t Val. Loss: 1.628 |  Val. PPL:   5.096\n",
            "Epoch: 27\n",
            "\tTrain Loss: 1.329 | Train PPL:   3.778\n",
            "==========================\n",
            "\t Val. Loss: 1.621 |  Val. PPL:   5.060\n",
            "Epoch: 28\n",
            "\tTrain Loss: 1.324 | Train PPL:   3.758\n",
            "==========================\n",
            "\t Val. Loss: 1.638 |  Val. PPL:   5.145\n",
            "Epoch: 29\n",
            "\tTrain Loss: 1.304 | Train PPL:   3.684\n",
            "==========================\n",
            "\t Val. Loss: 1.679 |  Val. PPL:   5.358\n",
            "Epoch: 30\n",
            "\tTrain Loss: 1.299 | Train PPL:   3.664\n",
            "==========================\n",
            "\t Val. Loss: 1.649 |  Val. PPL:   5.202\n",
            "Epoch: 31\n",
            "\tTrain Loss: 1.296 | Train PPL:   3.655\n",
            "==========================\n",
            "\t Val. Loss: 1.595 |  Val. PPL:   4.926\n",
            "Epoch: 32\n",
            "\tTrain Loss: 1.289 | Train PPL:   3.629\n",
            "==========================\n",
            "\t Val. Loss: 1.580 |  Val. PPL:   4.856\n",
            "Epoch: 33\n",
            "\tTrain Loss: 1.297 | Train PPL:   3.659\n",
            "==========================\n",
            "\t Val. Loss: 1.626 |  Val. PPL:   5.082\n",
            "Epoch: 34\n",
            "\tTrain Loss: 1.275 | Train PPL:   3.577\n",
            "==========================\n",
            "\t Val. Loss: 1.614 |  Val. PPL:   5.020\n",
            "Epoch: 35\n",
            "\tTrain Loss: 1.269 | Train PPL:   3.557\n",
            "==========================\n",
            "\t Val. Loss: 1.697 |  Val. PPL:   5.457\n",
            "Epoch: 36\n",
            "\tTrain Loss: 1.263 | Train PPL:   3.536\n",
            "==========================\n",
            "\t Val. Loss: 1.613 |  Val. PPL:   5.018\n",
            "Epoch: 37\n",
            "\tTrain Loss: 1.270 | Train PPL:   3.563\n",
            "==========================\n",
            "\t Val. Loss: 1.610 |  Val. PPL:   5.004\n",
            "Epoch: 38\n",
            "\tTrain Loss: 1.246 | Train PPL:   3.475\n",
            "==========================\n",
            "\t Val. Loss: 1.610 |  Val. PPL:   5.002\n",
            "Epoch: 39\n",
            "\tTrain Loss: 1.252 | Train PPL:   3.499\n",
            "==========================\n",
            "\t Val. Loss: 1.611 |  Val. PPL:   5.008\n",
            "Epoch: 40\n",
            "\tTrain Loss: 1.242 | Train PPL:   3.463\n",
            "==========================\n",
            "\t Val. Loss: 1.595 |  Val. PPL:   4.930\n"
          ]
        },
        {
          "output_type": "display_data",
          "data": {
            "text/plain": [
              "<Figure size 1872x288 with 2 Axes>"
            ],
            "image/png": "[encoded data removed]"
          },
          "metadata": {
            "needs_background": "light"
          }
        }
      ],
      "source": [
        "# Train your model \n",
        "# you can modify the codes in this block\n",
        "history = {'train_PPL':[], 'val_PPL':[], 'lr':[]}\n",
        "\n",
        "for epoch in range(N_EPOCHS):\n",
        "    train_loss = train(model, train_dataloader, optimizer, loss_fn, 1)\n",
        "    \n",
        "    print(f'Epoch: {epoch+1:02}')\n",
        "    print(f'\\tTrain Loss: {train_loss:.3f} | Train PPL: {math.exp(train_loss):7.3f}')\n",
        "    \n",
        "    if epoch%valid_every==0:\n",
        "        print(\"==========================\")\n",
        "        valid_loss = evaluate(model, valid_dataloader, loss_fn)\n",
        "\n",
        "        if valid_loss < best_valid_loss:\n",
        "            best_valid_loss = valid_loss\n",
        "            model.decoder.t=0\n",
        "            torch.save(model.state_dict(), 'lstm-attn-model.pt')\n",
        "        print(f'\\t Val. Loss: {valid_loss:.3f} |  Val. PPL: {math.exp(valid_loss):7.3f}')\n",
        "\n",
        "        history['train_PPL'].append(math.exp(train_loss))\n",
        "        history['val_PPL'].append(math.exp(valid_loss))\n",
        "        history['lr'].append(optimizer.param_groups[0]['lr'])\n",
        "\n",
        "plot_history(history) "
      ]
    },
    {
      "cell_type": "code",
      "execution_count": 175,
      "metadata": {
        "id": "hBXKAKZo2lSS",
        "colab": {
          "base_uri": "https://localhost:8080/"
        },
        "outputId": "4f4de8d3-efa3-4689-f318-cacc8ed67262"
      },
      "outputs": [
        {
          "output_type": "stream",
          "name": "stderr",
          "text": [
            "<ipython-input-169-671b60b9b4b5>:56: UserWarning: Implicit dimension choice for log_softmax has been deprecated. Change the call to include dim=X as an argument.\n",
            "  output = F.log_softmax(output)\n"
          ]
        },
        {
          "output_type": "stream",
          "name": "stdout",
          "text": [
            "\t Test. Loss: 1.595 |  Test. PPL:   4.930\n"
          ]
        }
      ],
      "source": [
        "# Test your model\n",
        "torch.save(model.state_dict(), 'lstm-attn-model.pt') \n",
        "loaded_model = LSTMSeq2Seq(in_dim, out_dim, emb_dim, hid_dim, device, dropout).to(device)\n",
        "loaded_model.load_state_dict(torch.load('lstm-attn-model.pt'))\n",
        "\n",
        "test_loss = evaluate(loaded_model, test_dataloader, loss_fn)\n",
        "print(f'\\t Test. Loss: {valid_loss:.3f} |  Test. PPL: {math.exp(valid_loss):7.3f}')"
      ]
    },
    {
      "cell_type": "markdown",
      "source": [
        "[Hyper Parameter]\n",
        "- Learning rate을 크게 하면 너무 빨리 수렴함과 동시에 이후의 학습에서는 loss가 나아지지 않거나 크게 변동하는 현상이 발생하였다. 따라서 보다 작은 값인 0.001로 설정하였다.\n",
        "- Dropout 역시 0.1~0.4 구간보다 0.5를 설정하였을 때 학습이 꾸준히 이루어짐을 발견하였다.\n",
        "- valid_every는 1로 설정하여 매 epoch마다 val loss를 확인하도록 하였다.\n",
        "\n",
        "\n",
        "[Test Result]\n",
        "- Training loss가 epoch이 지남에 따라 감소하는데, Validation loss 역시 서서히 감소하였고, 최종 val_PPL이 과제의 기준치인 7 이내에 도달하였다.\n",
        "- 따라서 Overfitting이 발생했다고 보기는 힘들 것 같다."
      ],
      "metadata": {
        "id": "q3iqv1Lh86G_"
      }
    },
    {
      "cell_type": "markdown",
      "metadata": {
        "id": "FD1SYbuKOKGN"
      },
      "source": [
        "## [Bonus] Implement GRU Seq2Seq Model"
      ]
    },
    {
      "cell_type": "code",
      "execution_count": null,
      "metadata": {
        "id": "Ei1fgjRveS4n"
      },
      "outputs": [],
      "source": [
        "'''\n",
        "Q2 - (d)\n",
        "Change the modules(encoder, decoder) in Seq2Seq model to GRU, and repeat (a)~(c).\n",
        "\n",
        "'''"
      ]
    },
    {
      "cell_type": "code",
      "execution_count": 176,
      "metadata": {
        "id": "2U9A9kh3OSWW"
      },
      "outputs": [],
      "source": [
        "class GRUEncoder(nn.Module):\n",
        "    def __init__(self, in_dim, emb_dim, hid_dim):\n",
        "        super(GRUEncoder, self).__init__()\n",
        "        ################### YOUR CODE ###################\n",
        "        self.embedding = nn.Embedding(in_dim, emb_dim)\n",
        "        self.gru = nn.GRU(input_size=emb_dim, hidden_size=hid_dim, num_layers=1, batch_first=True)\n",
        "        #################################################\n",
        "\n",
        "    def forward(self, input, hidden):\n",
        "        ################### YOUR CODE ###################\n",
        "        input = self.embedding(input).to(device)\n",
        "        hiddens, hidden = self.gru(input, hidden)\n",
        "        return hiddens\n",
        "        #################################################"
      ]
    },
    {
      "cell_type": "code",
      "execution_count": 177,
      "metadata": {
        "id": "9-IRYjI6O0xb"
      },
      "outputs": [],
      "source": [
        "class AttnGRUDecoder(nn.Module):\n",
        "    def __init__(self, emb_dim, hid_dim, out_dim, dropout, enc_hiddens=None):\n",
        "        super(AttnGRUDecoder, self).__init__()\n",
        "        ################### YOUR CODE ###################\n",
        "        self.enc_hiddens = enc_hiddens\n",
        "        self.dropout = dropout\n",
        "        self.out_dim = out_dim\n",
        "        self.fc = nn.Linear(hid_dim + hid_dim, hid_dim)\n",
        "        self.tanh = nn.Tanh()\n",
        "        self.embedding = nn.Embedding(out_dim, emb_dim)\n",
        "        self.gru = nn.GRU(input_size=emb_dim, hidden_size=hid_dim, batch_first=True)\n",
        "        self.classifier = nn.Linear(hid_dim, out_dim)\n",
        "        #################################################\n",
        "\n",
        "    def forward(self, input, hidden):\n",
        "\n",
        "        ################### YOUR CODE ###################\n",
        "        query = hidden # set query to calculate attention\n",
        "        key = self.enc_hiddens.permute(1,0,2)\n",
        "        value = self.enc_hiddens.permute(1,0,2)\n",
        "        \n",
        "        input = self.embedding(input)\n",
        "        input = nn.Dropout(self.dropout)(input)\n",
        "\n",
        "        attn_score = torch.matmul(key, query.permute(0,2,1))\n",
        "        attn_coefficient = F.softmax(attn_score, dim=1)\n",
        "        weighted_kv = (value * attn_coefficient)\n",
        "        attn_value = torch.sum(weighted_kv, dim=1)\n",
        "\n",
        "        hidden_concat = torch.cat([query, attn_value.unsqueeze(1)], dim=2)\n",
        "        hidden_concat = self.fc(hidden_concat)\n",
        "        hidden_concat = self.tanh(hidden_concat)\n",
        "        hidden_concat = hidden_concat.permute(1,0,2)\n",
        "\n",
        "        output, (h) = self.gru(input, (hidden_concat))\n",
        "        output = self.classifier(output)\n",
        "        output = F.log_softmax(output)\n",
        "\n",
        "        return output, h\n",
        "        #################################################"
      ]
    },
    {
      "cell_type": "code",
      "execution_count": 178,
      "metadata": {
        "id": "BOOj4_hhP83d"
      },
      "outputs": [],
      "source": [
        "class GRUSeq2Seq(nn.Module):\n",
        "    def __init__(self, in_dim, out_dim, emb_dim, hid_dim, device, dropout):\n",
        "        super(GRUSeq2Seq, self).__init__()\n",
        "        self.in_dim = in_dim\n",
        "        self.out_dim = out_dim\n",
        "        self.emb_dim = emb_dim\n",
        "        self.hid_dim = hid_dim\n",
        "        self.device = device\n",
        "        self.dropout = nn.Dropout(dropout)\n",
        "        self.encoder = GRUEncoder(in_dim, emb_dim, hid_dim)\n",
        "        self.decoder = AttnGRUDecoder(emb_dim, hid_dim, out_dim, dropout)\n",
        "        \n",
        "    def forward(self, src, trg):\n",
        "        batch_size, mx_len = src.shape\n",
        "        device = self.device\n",
        "        ################### YOUR CODE ###################\n",
        "        # Encoder\n",
        "        h_e = torch.zeros(1, batch_size, self.hid_dim).to(self.device)\n",
        "        hiddens = self.encoder(src, h_e).permute(1,0,2)\n",
        "\n",
        "        # Decoder\n",
        "        self.decoder.enc_hiddens = hiddens # set encoder's hidden states\n",
        "        outputs = torch.zeros(mx_len, batch_size, dataset.output_lang.n_words).to(self.device) # to store each decoder's output\n",
        "        h_d = hiddens[-1].unsqueeze(1).to(self.device)\n",
        "        trg = trg.permute(1,0)\n",
        "        for t in range(1, mx_len): # for each t'th token, get decoder outputs\n",
        "            input = trg[t].unsqueeze(1)\n",
        "            output, h = self.decoder(input, h_d)\n",
        "            h_d = h.permute(1,0,2)\n",
        "            outputs[t] = output.squeeze(1)\n",
        "  \n",
        "        return outputs.permute(1,2,0)\n",
        "        #################################################"
      ]
    },
    {
      "cell_type": "code",
      "execution_count": 179,
      "metadata": {
        "id": "gqajm5Iq2YNx"
      },
      "outputs": [],
      "source": [
        "# experiment various methods for better performance\n",
        "# you can modify the codes in this block\n",
        "in_dim = dataset.input_lang.n_words\n",
        "out_dim = dataset.output_lang.n_words\n",
        "\n",
        "hid_dim = 128\n",
        "emb_dim = 64\n",
        "dropout = 0.5\n",
        "learning_rate=0.001\n",
        "N_EPOCHS = 40\n",
        "valid_every=1\n",
        "best_valid_loss = float('inf')\n",
        "\n",
        "device = torch.device('cuda' if torch.cuda.is_available() else 'cpu')\n",
        "gru_model = GRUSeq2Seq(in_dim, out_dim, emb_dim, hid_dim, device, dropout).to(device)\n",
        "\n",
        "optimizer = torch.optim.AdamW(gru_model.parameters(), lr=learning_rate)\n",
        "loss_fn = nn.CrossEntropyLoss(ignore_index = dataset.output_lang_pad) "
      ]
    },
    {
      "cell_type": "code",
      "execution_count": 180,
      "metadata": {
        "id": "usq_ohj4Qqf5",
        "colab": {
          "base_uri": "https://localhost:8080/",
          "height": 1000
        },
        "outputId": "bf97d10b-0dbc-45a3-f615-a191963c193b"
      },
      "outputs": [
        {
          "output_type": "stream",
          "name": "stderr",
          "text": [
            "<ipython-input-177-62e0206e5d3a>:37: UserWarning: Implicit dimension choice for log_softmax has been deprecated. Change the call to include dim=X as an argument.\n",
            "  output = F.log_softmax(output)\n"
          ]
        },
        {
          "output_type": "stream",
          "name": "stdout",
          "text": [
            "Epoch: 01\n",
            "\tTrain Loss: 5.488 | Train PPL: 241.768\n",
            "==========================\n",
            "\t Val. Loss: 3.660 |  Val. PPL:  38.869\n",
            "Epoch: 02\n",
            "\tTrain Loss: 3.286 | Train PPL:  26.732\n",
            "==========================\n",
            "\t Val. Loss: 3.173 |  Val. PPL:  23.871\n",
            "Epoch: 03\n",
            "\tTrain Loss: 2.750 | Train PPL:  15.644\n",
            "==========================\n",
            "\t Val. Loss: 2.708 |  Val. PPL:  15.002\n",
            "Epoch: 04\n",
            "\tTrain Loss: 2.514 | Train PPL:  12.360\n",
            "==========================\n",
            "\t Val. Loss: 2.521 |  Val. PPL:  12.441\n",
            "Epoch: 05\n",
            "\tTrain Loss: 2.221 | Train PPL:   9.217\n",
            "==========================\n",
            "\t Val. Loss: 2.499 |  Val. PPL:  12.166\n",
            "Epoch: 06\n",
            "\tTrain Loss: 2.176 | Train PPL:   8.813\n",
            "==========================\n",
            "\t Val. Loss: 2.207 |  Val. PPL:   9.089\n",
            "Epoch: 07\n",
            "\tTrain Loss: 1.978 | Train PPL:   7.227\n",
            "==========================\n",
            "\t Val. Loss: 2.062 |  Val. PPL:   7.863\n",
            "Epoch: 08\n",
            "\tTrain Loss: 1.850 | Train PPL:   6.361\n",
            "==========================\n",
            "\t Val. Loss: 2.004 |  Val. PPL:   7.417\n",
            "Epoch: 09\n",
            "\tTrain Loss: 1.756 | Train PPL:   5.787\n",
            "==========================\n",
            "\t Val. Loss: 1.914 |  Val. PPL:   6.782\n",
            "Epoch: 10\n",
            "\tTrain Loss: 1.692 | Train PPL:   5.432\n",
            "==========================\n",
            "\t Val. Loss: 1.882 |  Val. PPL:   6.564\n",
            "Epoch: 11\n",
            "\tTrain Loss: 1.644 | Train PPL:   5.174\n",
            "==========================\n",
            "\t Val. Loss: 1.826 |  Val. PPL:   6.209\n",
            "Epoch: 12\n",
            "\tTrain Loss: 1.591 | Train PPL:   4.907\n",
            "==========================\n",
            "\t Val. Loss: 1.866 |  Val. PPL:   6.461\n",
            "Epoch: 13\n",
            "\tTrain Loss: 1.555 | Train PPL:   4.734\n",
            "==========================\n",
            "\t Val. Loss: 1.812 |  Val. PPL:   6.121\n",
            "Epoch: 14\n",
            "\tTrain Loss: 1.512 | Train PPL:   4.538\n",
            "==========================\n",
            "\t Val. Loss: 1.813 |  Val. PPL:   6.129\n",
            "Epoch: 15\n",
            "\tTrain Loss: 1.472 | Train PPL:   4.360\n",
            "==========================\n",
            "\t Val. Loss: 1.791 |  Val. PPL:   5.994\n",
            "Epoch: 16\n",
            "\tTrain Loss: 1.468 | Train PPL:   4.342\n",
            "==========================\n",
            "\t Val. Loss: 1.697 |  Val. PPL:   5.456\n",
            "Epoch: 17\n",
            "\tTrain Loss: 1.430 | Train PPL:   4.178\n",
            "==========================\n",
            "\t Val. Loss: 1.689 |  Val. PPL:   5.413\n",
            "Epoch: 18\n",
            "\tTrain Loss: 1.409 | Train PPL:   4.091\n",
            "==========================\n",
            "\t Val. Loss: 1.745 |  Val. PPL:   5.728\n",
            "Epoch: 19\n",
            "\tTrain Loss: 1.394 | Train PPL:   4.031\n",
            "==========================\n",
            "\t Val. Loss: 1.739 |  Val. PPL:   5.693\n",
            "Epoch: 20\n",
            "\tTrain Loss: 1.384 | Train PPL:   3.990\n",
            "==========================\n",
            "\t Val. Loss: 1.721 |  Val. PPL:   5.588\n",
            "Epoch: 21\n",
            "\tTrain Loss: 1.356 | Train PPL:   3.880\n",
            "==========================\n",
            "\t Val. Loss: 1.705 |  Val. PPL:   5.503\n",
            "Epoch: 22\n",
            "\tTrain Loss: 1.358 | Train PPL:   3.889\n",
            "==========================\n",
            "\t Val. Loss: 1.682 |  Val. PPL:   5.378\n",
            "Epoch: 23\n",
            "\tTrain Loss: 1.336 | Train PPL:   3.802\n",
            "==========================\n",
            "\t Val. Loss: 1.646 |  Val. PPL:   5.185\n",
            "Epoch: 24\n",
            "\tTrain Loss: 1.317 | Train PPL:   3.733\n",
            "==========================\n",
            "\t Val. Loss: 1.671 |  Val. PPL:   5.318\n",
            "Epoch: 25\n",
            "\tTrain Loss: 1.329 | Train PPL:   3.777\n",
            "==========================\n",
            "\t Val. Loss: 1.680 |  Val. PPL:   5.364\n",
            "Epoch: 26\n",
            "\tTrain Loss: 1.317 | Train PPL:   3.730\n",
            "==========================\n",
            "\t Val. Loss: 1.682 |  Val. PPL:   5.374\n",
            "Epoch: 27\n",
            "\tTrain Loss: 1.295 | Train PPL:   3.650\n",
            "==========================\n",
            "\t Val. Loss: 1.634 |  Val. PPL:   5.126\n",
            "Epoch: 28\n",
            "\tTrain Loss: 1.292 | Train PPL:   3.642\n",
            "==========================\n",
            "\t Val. Loss: 1.638 |  Val. PPL:   5.147\n",
            "Epoch: 29\n",
            "\tTrain Loss: 1.289 | Train PPL:   3.631\n",
            "==========================\n",
            "\t Val. Loss: 1.658 |  Val. PPL:   5.248\n",
            "Epoch: 30\n",
            "\tTrain Loss: 1.280 | Train PPL:   3.598\n",
            "==========================\n",
            "\t Val. Loss: 1.723 |  Val. PPL:   5.603\n",
            "Epoch: 31\n",
            "\tTrain Loss: 1.271 | Train PPL:   3.564\n",
            "==========================\n",
            "\t Val. Loss: 1.642 |  Val. PPL:   5.166\n",
            "Epoch: 32\n",
            "\tTrain Loss: 1.271 | Train PPL:   3.563\n",
            "==========================\n",
            "\t Val. Loss: 1.634 |  Val. PPL:   5.126\n",
            "Epoch: 33\n",
            "\tTrain Loss: 1.265 | Train PPL:   3.543\n",
            "==========================\n",
            "\t Val. Loss: 1.655 |  Val. PPL:   5.234\n",
            "Epoch: 34\n",
            "\tTrain Loss: 1.277 | Train PPL:   3.587\n",
            "==========================\n",
            "\t Val. Loss: 1.630 |  Val. PPL:   5.102\n",
            "Epoch: 35\n",
            "\tTrain Loss: 1.260 | Train PPL:   3.526\n",
            "==========================\n",
            "\t Val. Loss: 1.654 |  Val. PPL:   5.229\n",
            "Epoch: 36\n",
            "\tTrain Loss: 1.241 | Train PPL:   3.460\n",
            "==========================\n",
            "\t Val. Loss: 1.657 |  Val. PPL:   5.246\n",
            "Epoch: 37\n",
            "\tTrain Loss: 1.249 | Train PPL:   3.486\n",
            "==========================\n",
            "\t Val. Loss: 1.702 |  Val. PPL:   5.483\n",
            "Epoch: 38\n",
            "\tTrain Loss: 1.259 | Train PPL:   3.522\n",
            "==========================\n",
            "\t Val. Loss: 1.635 |  Val. PPL:   5.131\n",
            "Epoch: 39\n",
            "\tTrain Loss: 1.240 | Train PPL:   3.456\n",
            "==========================\n",
            "\t Val. Loss: 1.652 |  Val. PPL:   5.218\n",
            "Epoch: 40\n",
            "\tTrain Loss: 1.229 | Train PPL:   3.419\n",
            "==========================\n",
            "\t Val. Loss: 1.644 |  Val. PPL:   5.177\n"
          ]
        },
        {
          "output_type": "display_data",
          "data": {
            "text/plain": [
              "<Figure size 1872x288 with 2 Axes>"
            ],
            "image/png": "[encoded data removed]"
          },
          "metadata": {
            "needs_background": "light"
          }
        }
      ],
      "source": [
        "# Train your model \n",
        "# you can modify the codes in this block\n",
        "history = {'train_PPL':[], 'val_PPL':[], 'lr':[]}\n",
        "\n",
        "for epoch in range(N_EPOCHS):\n",
        "    train_loss = train(gru_model, train_dataloader, optimizer, loss_fn, 1)\n",
        "    \n",
        "    print(f'Epoch: {epoch+1:02}')\n",
        "    print(f'\\tTrain Loss: {train_loss:.3f} | Train PPL: {math.exp(train_loss):7.3f}')\n",
        "    \n",
        "    if epoch%valid_every==0:\n",
        "        print(\"==========================\")\n",
        "        valid_loss = evaluate(gru_model, valid_dataloader, loss_fn)\n",
        "\n",
        "        if valid_loss < best_valid_loss:\n",
        "            best_valid_loss = valid_loss\n",
        "            gru_model.decoder.t=0\n",
        "            torch.save(gru_model.state_dict(), 'gru-attn-model.pt')\n",
        "        print(f'\\t Val. Loss: {valid_loss:.3f} |  Val. PPL: {math.exp(valid_loss):7.3f}')\n",
        "\n",
        "        history['train_PPL'].append(math.exp(train_loss))\n",
        "        history['val_PPL'].append(math.exp(valid_loss))\n",
        "        history['lr'].append(optimizer.param_groups[0]['lr'])\n",
        "\n",
        "plot_history(history) "
      ]
    },
    {
      "cell_type": "code",
      "execution_count": 182,
      "metadata": {
        "id": "WrFYlXfiRCSn",
        "colab": {
          "base_uri": "https://localhost:8080/"
        },
        "outputId": "100df102-a081-47ab-e6f7-567e9979d96b"
      },
      "outputs": [
        {
          "output_type": "stream",
          "name": "stderr",
          "text": [
            "<ipython-input-177-62e0206e5d3a>:37: UserWarning: Implicit dimension choice for log_softmax has been deprecated. Change the call to include dim=X as an argument.\n",
            "  output = F.log_softmax(output)\n"
          ]
        },
        {
          "output_type": "stream",
          "name": "stdout",
          "text": [
            "\t Test. Loss: 1.644 |  Test. PPL:   5.177\n"
          ]
        }
      ],
      "source": [
        "# Test your model\n",
        "torch.save(gru_model.state_dict(), 'gru-attn-model.pt') \n",
        "loaded_model = GRUSeq2Seq(in_dim, out_dim, emb_dim, hid_dim, device, dropout).to(device)\n",
        "gru_model.load_state_dict(torch.load('gru-attn-model.pt'))\n",
        "\n",
        "test_loss = evaluate(gru_model, test_dataloader, loss_fn)\n",
        "print(f'\\t Test. Loss: {valid_loss:.3f} |  Test. PPL: {math.exp(valid_loss):7.3f}')"
      ]
    },
    {
      "cell_type": "markdown",
      "metadata": {
        "id": "qAZdJqTJXVcP"
      },
      "source": [
        "# 2. Seq2Seq model with Transformer"
      ]
    },
    {
      "cell_type": "markdown",
      "metadata": {
        "id": "t07UOwbpH7CZ"
      },
      "source": [
        "## Implement Transformer Seq2Seq Model"
      ]
    },
    {
      "cell_type": "code",
      "execution_count": 137,
      "metadata": {
        "id": "Cvv3bN0qXX1I"
      },
      "outputs": [],
      "source": [
        "class TransEncoder(nn.Module):\n",
        "    def __init__(self, input_dim, hid_dim, n_layers, n_heads, ff_dim, dropout, device, max_length = MAX_LENGTH):\n",
        "        super().__init__()\n",
        "        self.hid_dim = hid_dim\n",
        "        self.max_length = max_length\n",
        "        self.tok_embedding = nn.Embedding(input_dim, hid_dim)\n",
        "        encoder_layer = TransformerEncoderLayer(hid_dim, n_heads, ff_dim, dropout, batch_first=True)\n",
        "        self.encoder = TransformerEncoder(encoder_layer, n_layers)\n",
        "        self.dropout = nn.Dropout(dropout)\n",
        "        self.scale = torch.sqrt(torch.tensor([hid_dim], device = device, dtype=torch.float32))\n",
        "        \n",
        "    def forward(self, src, pos_emb, src_mask):\n",
        "        '''\n",
        "        Q3 - (c)\n",
        "        Implement forward method of TransEncoder Module\n",
        "        (Use torch.nn.TransformerEncoder, torch.nn.TransformerEncoderLayer)\n",
        "        \n",
        "        INPUT\n",
        "        - src: source language batched data (B, max_len)\n",
        "        - pos_emb: positional embedding (1, max_len, hid_dim)\n",
        "        - src_mask: padding mask tensor for source sentences (B, max_len)\n",
        "\n",
        "        OUTPUT\n",
        "        What to be returned depends on your implementation of TransSeq2Seq.\n",
        "        Feel free to return outputs you need.\n",
        "        Some examples below,\n",
        "\n",
        "        - encoder output (B, max_len, hid_dim)\n",
        "        '''\n",
        "        #################### YOUR CODE ####################\n",
        "        src = self.tok_embedding(src)\n",
        "        src = self.dropout((src*self.scale) + pos_emb)\n",
        "        \n",
        "        output = self.encoder(src, src_key_padding_mask=src_mask)\n",
        "        \n",
        "        return output\n",
        "        ###################################################\n",
        "        "
      ]
    },
    {
      "cell_type": "code",
      "execution_count": 138,
      "metadata": {
        "id": "8mKifSxjIWKk"
      },
      "outputs": [],
      "source": [
        "class TransDecoder(nn.Module):\n",
        "    def __init__(self, out_dim, hid_dim, n_layers, n_heads, ff_dim, dropout, device, max_length = MAX_LENGTH):\n",
        "        super().__init__()\n",
        "        self.hid_dim = hid_dim\n",
        "        self.max_length = max_length\n",
        "        self.tok_embedding = nn.Embedding(out_dim, hid_dim)\n",
        "        decoder_layer = TransformerDecoderLayer(hid_dim, n_heads, ff_dim, dropout, batch_first=True)\n",
        "        self.decoder = TransformerDecoder(decoder_layer, n_layers)\n",
        "        self.fc_out = nn.Linear(hid_dim, out_dim)\n",
        "        self.dropout = nn.Dropout(dropout)\n",
        "        self.scale = torch.sqrt(torch.tensor([hid_dim], device = device, dtype=torch.float32))\n",
        "        \n",
        "    def forward(self, trg, pos_emb, enc_src, trg_mask, trg_sub_mask, src_mask):\n",
        "        '''\n",
        "        Q3 - (c)\n",
        "        Implement forward method of TransDecoder Module\n",
        "        (Use torch.nn.TransformerDecoder, torch.nn.TransformerDecoderLayer)\n",
        "        \n",
        "        INPUT\n",
        "        - trg: target language batched data (B, max_len)\n",
        "        - pos_emb: positional embedding (1, max_len, hid_dim)\n",
        "        - enc_src: encoder outputs (B, max_len, hid_dim)\n",
        "        - trg_mask: padding mask tensor for target sentences (B, max_len)\n",
        "        - trg_sub_mask: subsequent mask for target sentences (max_len, max_len)\n",
        "        - src_mask: padding mask tensor for source sentences (B, max_len)\n",
        "\n",
        "        OUTPUT\n",
        "        What to be returned depends on your implementation of TransSeq2Seq.\n",
        "        Feel free to return outputs you need.\n",
        "        Some examples below,\n",
        "\n",
        "        - decoder output (B, max_len, out_dim)\n",
        "        '''\n",
        "        #################### YOUR CODE ####################\n",
        "        trg = self.tok_embedding(trg)\n",
        "        trg = self.dropout((trg*self.scale) + pos_emb)\n",
        "        dec = self.decoder(tgt=trg, tgt_key_padding_mask=trg_mask, \n",
        "                           tgt_mask=trg_sub_mask, memory=enc_src, memory_key_padding_mask=src_mask)\n",
        "        output = self.fc_out(dec).to(DEVICE)\n",
        "        return output\n",
        "        ###################################################"
      ]
    },
    {
      "cell_type": "code",
      "execution_count": 139,
      "metadata": {
        "id": "L5VFP1-3IXmv"
      },
      "outputs": [],
      "source": [
        "class TransSeq2Seq(nn.Module):\n",
        "    def __init__(self, in_dim, out_dim, hid_dim, ff_dim, n_layers, n_heads, dropout_p, device, max_length=MAX_LENGTH):\n",
        "        super().__init__()\n",
        "        \n",
        "        self.device = device\n",
        "        self.hid_dim = hid_dim\n",
        "        self.max_length = max_length\n",
        "\n",
        "        self.encoder = TransEncoder(in_dim, hid_dim, n_layers[0], n_heads, ff_dim, dropout_p, device)\n",
        "        self.decoder = TransDecoder(out_dim, hid_dim, n_layers[1], n_heads, ff_dim, dropout_p, device)\n",
        "        \n",
        "    def make_src_mask(self, src):\n",
        "        '''\n",
        "        Q3 - (b)\n",
        "        Implement mask generating function\n",
        "        \n",
        "        INPUT\n",
        "        - src: batched input sentences (B, max_len)\n",
        "\n",
        "        OUTPUT\n",
        "        - Boolean padding mask tensor (B, max_len)\n",
        "        '''\n",
        "        #################### YOUR CODE ####################\n",
        "        source_mask = (src == dataset.input_lang_pad)\n",
        "        return source_mask.to(DEVICE)\n",
        "        ###################################################\n",
        "\n",
        "    def make_trg_mask(self, trg):\n",
        "        '''\n",
        "        Q3 - (b)\n",
        "        Implement mask generating function\n",
        "\n",
        "        INPUT\n",
        "        - trg: batched target sentences (B, max_len)\n",
        "\n",
        "        OUTPUT\n",
        "        - A tuple of a padding mask tensor and a subsequent mask tensor ((B, max_len), (max_len, max_len))\n",
        "        '''\n",
        "        #################### YOUR CODE ####################\n",
        "        trg_mask = (trg == dataset.output_lang_pad).to(DEVICE)\n",
        "        trg_sub_mask = torch.logical_not(torch.tril(torch.ones((self.max_length, self.max_length))).bool()).to(DEVICE)\n",
        "        return trg_mask, trg_sub_mask\n",
        "        ###################################################\n",
        "\n",
        "    def forward(self, src, trg):\n",
        "        '''\n",
        "        Q3 - (c)\n",
        "        Implement forward method of TransSeq2Seq Module\n",
        "        \n",
        "        INPUT\n",
        "        - src: source language batched data (B, max_len)\n",
        "        - trg: target language batched data (B, max_len)\n",
        "\n",
        "        OUTPUT\n",
        "        - decoder output (B, out_dim, max_dim)\n",
        "        \n",
        "        '''\n",
        "        #################### YOUR CODE ####################\n",
        "        src_mask = self.make_src_mask(src)\n",
        "        trg_mask, trg_sub_mask = self.make_trg_mask(trg)\n",
        "        \n",
        "        enc_output = self.encoder(src, self.get_pos_emb(), src_mask).to(DEVICE)\n",
        "        dec_output = self.decoder(trg, self.get_pos_emb(), \n",
        "                                  enc_output, trg_mask, trg_sub_mask, src_mask).to(DEVICE)\n",
        "        dec_output = dec_output.permute(0,2,1)\n",
        "\n",
        "        return dec_output.to(DEVICE)\n",
        "        ###################################################  \n",
        "    \n",
        "    def get_pos_emb(self):\n",
        "        '''\n",
        "        Q3 - (a)\n",
        "        Implement absolute positional embedding\n",
        "\n",
        "        OUTPUT\n",
        "        - positional embedding tensor (max_len, hid_dim)\n",
        "        '''\n",
        "        #################### YOUR CODE ####################\n",
        "        pos_emb = torch.zeros(self.max_length, self.hid_dim)\n",
        "        for p in range(self.max_length):\n",
        "          for i in range(self.hid_dim):\n",
        "            if i % 2 == 0:\n",
        "              pos_emb[p,i] = math.sin(p / 10000 ** (2 * i) / self.hid_dim)\n",
        "            else:\n",
        "              pos_emb[p,i] = math.cos(p / 10000 ** (2 * i) / self.hid_dim)\n",
        "        return pos_emb.to(DEVICE)\n",
        "        ###################################################"
      ]
    },
    {
      "cell_type": "markdown",
      "metadata": {
        "id": "KqnvbugEIJ-h"
      },
      "source": [
        "## Training"
      ]
    },
    {
      "cell_type": "code",
      "execution_count": 140,
      "metadata": {
        "id": "s8XBEzSHaUdX",
        "colab": {
          "base_uri": "https://localhost:8080/",
          "height": 54
        },
        "outputId": "97255b6a-f521-48be-e956-df100fa52a2e"
      },
      "outputs": [
        {
          "output_type": "execute_result",
          "data": {
            "text/plain": [
              "'\\nQ3 - (d)\\nTrain your Seq2Seq model and plot perplexities and learning rates. \\nUpon successful training, the test perplexity should be less than 2. \\nBriefly report your hyperparmeters and results on test dataset. \\nMake sure your results are printed in your submitted file.\\n'"
            ],
            "application/vnd.google.colaboratory.intrinsic+json": {
              "type": "string"
            }
          },
          "metadata": {},
          "execution_count": 140
        }
      ],
      "source": [
        "'''\n",
        "Q3 - (d)\n",
        "Train your Seq2Seq model and plot perplexities and learning rates. \n",
        "Upon successful training, the test perplexity should be less than 2. \n",
        "Briefly report your hyperparmeters and results on test dataset. \n",
        "Make sure your results are printed in your submitted file.\n",
        "'''"
      ]
    },
    {
      "cell_type": "code",
      "execution_count": 141,
      "metadata": {
        "id": "hdNx0Ol5ILbR"
      },
      "outputs": [],
      "source": [
        "# experiment various methods for better performance\n",
        "# you can modify the codes in this block\n",
        "in_dim = dataset.input_lang.n_words\n",
        "out_dim = dataset.output_lang.n_words\n",
        "hid_dim = 64\n",
        "ff_dim = 128\n",
        "n_enc_layers = 4\n",
        "n_dec_layers = 4\n",
        "n_layers = [n_enc_layers, n_dec_layers]\n",
        "n_heads = 8\n",
        "dropout = 0.5\n",
        "\n",
        "learning_rate=0.001\n",
        "N_EPOCHS = 30\n",
        "valid_every=2\n",
        "best_valid_loss = float('inf')\n",
        "\n",
        "device = torch.device('cuda' if torch.cuda.is_available() else 'cpu')\n",
        "trans_model = TransSeq2Seq(in_dim, out_dim, hid_dim, ff_dim, n_layers, n_heads, dropout, device).to(device)\n",
        "optimizer = torch.optim.Adam(trans_model.parameters(), lr=learning_rate)\n",
        "loss_fn = nn.CrossEntropyLoss(ignore_index = dataset.output_lang_pad)"
      ]
    },
    {
      "cell_type": "code",
      "execution_count": 142,
      "metadata": {
        "id": "aES3_sBTIgnN",
        "colab": {
          "base_uri": "https://localhost:8080/",
          "height": 1000
        },
        "outputId": "8ef22f5d-e3a9-40c1-b6e7-a38ea7c728b2"
      },
      "outputs": [
        {
          "output_type": "stream",
          "name": "stdout",
          "text": [
            "Epoch: 01\n",
            "\tTrain Loss: 4.400 | Train PPL:  81.433\n",
            "==========================\n",
            "\t Val. Loss: 2.299 |  Val. PPL:   9.968\n",
            "Epoch: 02\n",
            "\tTrain Loss: 2.203 | Train PPL:   9.055\n",
            "Epoch: 03\n",
            "\tTrain Loss: 1.560 | Train PPL:   4.760\n",
            "==========================\n",
            "\t Val. Loss: 1.063 |  Val. PPL:   2.896\n",
            "Epoch: 04\n",
            "\tTrain Loss: 1.193 | Train PPL:   3.299\n",
            "Epoch: 05\n",
            "\tTrain Loss: 0.940 | Train PPL:   2.559\n",
            "==========================\n",
            "\t Val. Loss: 0.623 |  Val. PPL:   1.865\n",
            "Epoch: 06\n",
            "\tTrain Loss: 0.745 | Train PPL:   2.107\n",
            "Epoch: 07\n",
            "\tTrain Loss: 0.601 | Train PPL:   1.823\n",
            "==========================\n",
            "\t Val. Loss: 0.409 |  Val. PPL:   1.505\n",
            "Epoch: 08\n",
            "\tTrain Loss: 0.484 | Train PPL:   1.623\n",
            "Epoch: 09\n",
            "\tTrain Loss: 0.396 | Train PPL:   1.486\n",
            "==========================\n",
            "\t Val. Loss: 0.294 |  Val. PPL:   1.342\n",
            "Epoch: 10\n",
            "\tTrain Loss: 0.323 | Train PPL:   1.381\n",
            "Epoch: 11\n",
            "\tTrain Loss: 0.268 | Train PPL:   1.307\n",
            "==========================\n",
            "\t Val. Loss: 0.236 |  Val. PPL:   1.266\n",
            "Epoch: 12\n",
            "\tTrain Loss: 0.220 | Train PPL:   1.246\n",
            "Epoch: 13\n",
            "\tTrain Loss: 0.185 | Train PPL:   1.203\n",
            "==========================\n",
            "\t Val. Loss: 0.203 |  Val. PPL:   1.225\n",
            "Epoch: 14\n",
            "\tTrain Loss: 0.155 | Train PPL:   1.168\n",
            "Epoch: 15\n",
            "\tTrain Loss: 0.129 | Train PPL:   1.138\n",
            "==========================\n",
            "\t Val. Loss: 0.184 |  Val. PPL:   1.202\n",
            "Epoch: 16\n",
            "\tTrain Loss: 0.108 | Train PPL:   1.114\n",
            "Epoch: 17\n",
            "\tTrain Loss: 0.091 | Train PPL:   1.095\n",
            "==========================\n",
            "\t Val. Loss: 0.183 |  Val. PPL:   1.200\n",
            "Epoch: 18\n",
            "\tTrain Loss: 0.076 | Train PPL:   1.079\n",
            "Epoch: 19\n",
            "\tTrain Loss: 0.063 | Train PPL:   1.065\n",
            "==========================\n",
            "\t Val. Loss: 0.180 |  Val. PPL:   1.198\n",
            "Epoch: 20\n",
            "\tTrain Loss: 0.053 | Train PPL:   1.055\n",
            "Epoch: 21\n",
            "\tTrain Loss: 0.045 | Train PPL:   1.046\n",
            "==========================\n",
            "\t Val. Loss: 0.186 |  Val. PPL:   1.205\n",
            "Epoch: 22\n",
            "\tTrain Loss: 0.039 | Train PPL:   1.040\n",
            "Epoch: 23\n",
            "\tTrain Loss: 0.034 | Train PPL:   1.034\n",
            "==========================\n",
            "\t Val. Loss: 0.194 |  Val. PPL:   1.214\n",
            "Epoch: 24\n",
            "\tTrain Loss: 0.028 | Train PPL:   1.028\n",
            "Epoch: 25\n",
            "\tTrain Loss: 0.025 | Train PPL:   1.025\n",
            "==========================\n",
            "\t Val. Loss: 0.197 |  Val. PPL:   1.218\n",
            "Epoch: 26\n",
            "\tTrain Loss: 0.022 | Train PPL:   1.022\n",
            "Epoch: 27\n",
            "\tTrain Loss: 0.019 | Train PPL:   1.019\n",
            "==========================\n",
            "\t Val. Loss: 0.203 |  Val. PPL:   1.224\n",
            "Epoch: 28\n",
            "\tTrain Loss: 0.017 | Train PPL:   1.017\n",
            "Epoch: 29\n",
            "\tTrain Loss: 0.015 | Train PPL:   1.015\n",
            "==========================\n",
            "\t Val. Loss: 0.209 |  Val. PPL:   1.233\n",
            "Epoch: 30\n",
            "\tTrain Loss: 0.014 | Train PPL:   1.014\n"
          ]
        },
        {
          "output_type": "display_data",
          "data": {
            "text/plain": [
              "<Figure size 1872x288 with 2 Axes>"
            ],
            "image/png": "[encoded data removed]"
          },
          "metadata": {
            "needs_background": "light"
          }
        }
      ],
      "source": [
        "# Train your model\n",
        "# you can modify the codes in this block\n",
        "history = {'train_PPL':[], 'val_PPL':[], 'lr':[]}\n",
        "\n",
        "for epoch in range(N_EPOCHS):\n",
        "    train_loss = train(trans_model, train_dataloader, optimizer, loss_fn, 1)\n",
        "    \n",
        "    print(f'Epoch: {epoch+1:02}')\n",
        "    print(f'\\tTrain Loss: {train_loss:.3f} | Train PPL: {math.exp(train_loss):7.3f}')\n",
        "    \n",
        "    if epoch%valid_every==0:\n",
        "        print(\"==========================\")\n",
        "        valid_loss = evaluate(trans_model, valid_dataloader, loss_fn)\n",
        "\n",
        "        if valid_loss < best_valid_loss:\n",
        "            best_valid_loss = valid_loss\n",
        "            trans_model.decoder.t=0\n",
        "            torch.save(trans_model.state_dict(), 'transformer-model.pt')\n",
        "\n",
        "        print(f'\\t Val. Loss: {valid_loss:.3f} |  Val. PPL: {math.exp(valid_loss):7.3f}')\n",
        "\n",
        "        history['train_PPL'].append(math.exp(train_loss))\n",
        "        history['val_PPL'].append(math.exp(valid_loss))\n",
        "        history['lr'].append(optimizer.param_groups[0]['lr'])\n",
        "\n",
        "plot_history(history)"
      ]
    },
    {
      "cell_type": "code",
      "execution_count": 143,
      "metadata": {
        "id": "4M6sUc-aJKP3",
        "colab": {
          "base_uri": "https://localhost:8080/"
        },
        "outputId": "c1e195d9-f4cf-4a56-9a41-a26cfe527329"
      },
      "outputs": [
        {
          "output_type": "stream",
          "name": "stdout",
          "text": [
            "\t Test. Loss: 0.209 |  Test. PPL:   1.233\n"
          ]
        }
      ],
      "source": [
        "# Test your model\n",
        "torch.save(trans_model.state_dict(), 'transformer-model.pt') \n",
        "loaded_model = TransSeq2Seq(in_dim, out_dim, hid_dim, ff_dim, n_layers, n_heads, dropout, device).to(device)\n",
        "loaded_model.load_state_dict(torch.load('transformer-model.pt'))\n",
        "\n",
        "test_loss = evaluate(loaded_model, test_dataloader, loss_fn)\n",
        "print(f'\\t Test. Loss: {valid_loss:.3f} |  Test. PPL: {math.exp(valid_loss):7.3f}')"
      ]
    },
    {
      "cell_type": "markdown",
      "source": [
        "[Hyper Parameter]\n",
        "- LSTM의 경우와 마찬가지로, dropout은 낮은 값보다 0.5 수준에서 학습이 가장 꾸준히 진행되는 모습을 보였다.\n",
        "- learning rate 역시 0.001인 경우에 가장 performance가 좋고 학습이 잘 되었다.\n",
        "- 그 외의 hyper parameter들은 여러 경우를 돌려보며 최종적으로 결정하였다.\n",
        "\n",
        "[Test Result]\n",
        "- Train/Validation loss 모두 epoch이 지남에 따라 감소하였고, Validation loss가 증가하는 추세가 보이지 않아 overfitting이 발생했다고 보기 어렵다.\n",
        "- test perplexity는 1.233으로, 앞선 두 모델보다 낮게 나타났다.\n",
        "\n",
        "[Which Approach is Better & Why?]\n",
        "- 결론적으로 앞선 LSTM, GRU 모델보다 Transformer를 활용한 모델의 결과가 더 좋게 나타났다.\n",
        "- 앞선 두 모델들은 test perplexity가 5에 가까웠던 반면, Transformer 모델은 총 epoch이 30이었음에도 1에 근사한 test perplexity를 보여주었다.\n",
        "- 그 이유 중 첫번째는 LSTM과 GRU가 \"이전의 정보를 잘 기억하지 못한다\"는 기존 RNN의 문제점을 어느 정도 해결하였지만 완벽히 해결하지는 못했기 때문으로 볼 수 있다. 물론 본 과제는 LSTM, GRU에 Attention을 사용하여 이를 보완하였다.\n",
        "- 그 다음으로는, Transformer는 Multi-head Attention, Encoder에서의 self-attention, Decoder에서 Encoder의 hidden states 정보를 활용한 attention 등을 통해 중요한 정보에 더 많이 집중할 수 있다는 장점이 있기 때문일 것이다."
      ],
      "metadata": {
        "id": "JzR2kMpdEO6M"
      }
    },
    {
      "cell_type": "code",
      "source": [],
      "metadata": {
        "id": "bhGgiMY-ITiC"
      },
      "execution_count": null,
      "outputs": []
    }
  ],
  "metadata": {
    "accelerator": "GPU",
    "colab": {
      "provenance": []
    },
    "gpuClass": "standard",
    "kernelspec": {
      "display_name": "Python 3",
      "name": "python3"
    },
    "language_info": {
      "name": "python"
    }
  },
  "nbformat": 4,
  "nbformat_minor": 0
}